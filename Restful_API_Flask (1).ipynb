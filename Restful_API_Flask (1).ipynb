{
  "nbformat": 4,
  "nbformat_minor": 0,
  "metadata": {
    "colab": {
      "provenance": []
    },
    "kernelspec": {
      "name": "python3",
      "display_name": "Python 3"
    },
    "language_info": {
      "name": "python"
    }
  },
  "cells": [
    {
      "cell_type": "markdown",
      "source": [
        "1. What is a RESTful API?\n",
        "\n",
        "A RESTful API is a web service that follows REST (Representational State Transfer) principles, allowing communication between client and server using standard HTTP methods.\n",
        "\n"
      ],
      "metadata": {
        "id": "rBOdITKE_wJb"
      }
    },
    {
      "cell_type": "markdown",
      "source": [
        "2. Explain the concept of API specification.\n",
        "\n",
        "An API specification defines how an API works, including endpoints, request/response formats, and data types (e.g., OpenAPI/Swagger)."
      ],
      "metadata": {
        "id": "jpvBLgpmBXde"
      }
    },
    {
      "cell_type": "markdown",
      "source": [
        "3. What is Flask, and why is it popular for building APIs?\n",
        "\n",
        "Flask is a lightweight Python web framework. It's popular for APIs because it's simple, flexible, and easy to extend.\n",
        "\n"
      ],
      "metadata": {
        "id": "ZPTw9yWF_wD5"
      }
    },
    {
      "cell_type": "markdown",
      "source": [
        "4. What is routing in Flask?\n",
        "\n",
        "Routing in Flask means mapping a URL to a specific function in your app that handles the request.\n",
        "\n"
      ],
      "metadata": {
        "id": "etAwBAlc_wBV"
      }
    },
    {
      "cell_type": "markdown",
      "source": [
        "5. How do you create a simple Flask application?\n",
        "\n",
        "\n",
        "from flask import Flask  \n",
        "app = Flask(__name__)  \n",
        "\n",
        "@app.route('/')  \n",
        "def home():  \n",
        "    return \"Hello, Flask!\"  \n",
        "\n",
        "app.run()\n"
      ],
      "metadata": {
        "id": "dBCbiR25_v-T"
      }
    },
    {
      "cell_type": "markdown",
      "source": [
        "6. What are HTTP methods used in RESTful APIs?\n",
        "\n",
        "Common methods: GET, POST, PUT, DELETE, PATCH.\n",
        "\n"
      ],
      "metadata": {
        "id": "eFGd7USo_v7m"
      }
    },
    {
      "cell_type": "markdown",
      "source": [
        "7. What is the purpose of the @app.route() decorator in Flask?\n",
        "\n",
        "It defines the URL path for a specific view function (i.e., which URL triggers which function).\n",
        "\n"
      ],
      "metadata": {
        "id": "QPX37OU0_v4w"
      }
    },
    {
      "cell_type": "markdown",
      "source": [
        "8. What is the difference between GET and POST HTTP methods?\n",
        "\n",
        "GET: Retrieves data from the server.\n",
        "\n",
        "POST: Sends new data to the server.\n",
        "\n"
      ],
      "metadata": {
        "id": "m7vzQMh__v19"
      }
    },
    {
      "cell_type": "markdown",
      "source": [
        "9. How do you handle errors in Flask APIs?\n",
        "Using @app.errorhandler() or Flask's built-in exceptions:\n",
        "\n",
        "\n",
        "@app.errorhandler(404)  \n",
        "def not_found(e):  \n",
        "    return \"Page not found\", 404\n"
      ],
      "metadata": {
        "id": "iZozvKZi_vy-"
      }
    },
    {
      "cell_type": "markdown",
      "source": [
        "10. How do you connect Flask to a SQL database?\n",
        "\n",
        "Using extensions like Flask-SQLAlchemy to manage the database connection.\n",
        "\n"
      ],
      "metadata": {
        "id": "8aE2Hd_k_vv3"
      }
    },
    {
      "cell_type": "markdown",
      "source": [
        "11. What is the role of Flask-SQLAlchemy?\n",
        "\n",
        "It integrates SQLAlchemy with Flask, making it easier to work with databases using Python classes.\n",
        "\n"
      ],
      "metadata": {
        "id": "M2C0mjnE_vtE"
      }
    },
    {
      "cell_type": "markdown",
      "source": [
        "12. What are Flask blueprints, and how are they useful?\n",
        "\n",
        "Blueprints help organize large applications by grouping routes and logic into separate modules.\n",
        "\n",
        "13. What is the purpose of Flask's request object?\n",
        "\n",
        "It allows you to access request data (form data, JSON, headers, etc.) sent by the client.\n",
        "\n"
      ],
      "metadata": {
        "id": "gtBOgyLw_vqb"
      }
    },
    {
      "cell_type": "markdown",
      "source": [
        "14. How do you create a RESTful API endpoint using Flask?\n",
        "\n",
        "@app.route('/api/data', methods=['GET'])  \n",
        "def get_data():  \n",
        "    return {'name': 'Flask'}\n",
        "15. What is the purpose of Flask's jsonify() function?\n",
        "It converts Python dictionaries into JSON responses automatically.\n",
        "\n",
        "16. Explain Flask’s url_for() function.\n",
        "\n",
        "It generates URLs for view functions, making routing dynamic and avoiding hardcoded URLs.\n",
        "\n",
        "17. How does Flask handle static files (CSS, JavaScript, etc.)?\n",
        "\n",
        "Static files are placed in a static/ folder. Flask serves them via /static/<filename> URL.\n",
        "\n",
        "18. What is an API specification, and how does it help in building a Flask API?\n",
        "\n",
        "It acts as a contract describing how the API works, helping teams understand and build consistent APIs.\n",
        "\n",
        "19. What are HTTP status codes, and why are they important in a Flask API?\n",
        "\n",
        "They indicate the result of an HTTP request (e.g., 200 OK, 404 Not Found) and help clients understand responses.\n",
        "\n",
        "20. How do you handle POST requests in Flask?\n",
        "\n",
        "\n",
        "@app.route('/submit', methods=['POST'])  \n",
        "def submit():  \n",
        "    data = request.json  \n",
        "    return jsonify(data)\n",
        "21. How would you secure a Flask API?\n",
        "\n",
        "Use HTTPS, authentication (like JWT), validation, and avoid exposing sensitive data.\n",
        "\n",
        "22. What is the significance of the Flask-RESTful extension?\n",
        "\n",
        "It simplifies building REST APIs by providing tools for request parsing, routing, and response formatting.\n",
        "\n",
        "23. What is the role of Flask’s session object?\n",
        "\n",
        "It stores user-specific data across requests (e.g., login state) using secure cookies.\n",
        "\n"
      ],
      "metadata": {
        "id": "NSvEU33Y_vnQ"
      }
    },
    {
      "cell_type": "code",
      "source": [
        "1. How do you create a basic Flask application?\n",
        "from flask import Flask\n",
        "app = Flask(__name__)\n",
        "\n",
        "@app.route('/')\n",
        "def home():\n",
        "    return \"Hello, Flask!\"\n",
        "\n",
        "if __name__ == '__main__':\n",
        "    app.run(debug=True)\n",
        "\n",
        "\n"
      ],
      "metadata": {
        "id": "ptMVf_PXEF79"
      },
      "execution_count": null,
      "outputs": []
    },
    {
      "cell_type": "code",
      "source": [
        "2. How do you serve static files like images or CSS in Flask?\n",
        "Place files in the static/ folder and access them via /static/filename.\n",
        "Example in HTML:\n",
        "\n",
        "html\n",
        "\n",
        "<link rel=\"stylesheet\" href=\"{{ url_for('static', filename='style.css') }}\">\n"
      ],
      "metadata": {
        "id": "hWpwpu4lEF4l"
      },
      "execution_count": null,
      "outputs": []
    },
    {
      "cell_type": "code",
      "source": [
        "3. How do you define different routes with different HTTP methods in Flask?\n",
        "@app.route('/submit', methods=['GET', 'POST'])\n",
        "def submit():\n",
        "    if request.method == 'POST':\n",
        "        return 'Form submitted!'\n",
        "    return 'Submit form'\n",
        "\n",
        "4. How do you render HTML templates in Flask?\n",
        "Use the templates/ folder and render_template():\n",
        "from flask import render_template\n",
        "@app.route('/about')\n",
        "def about():\n",
        "    return render_template('about.html')\n",
        "\n",
        "5. How can you generate URLs for routes in Flask using url_for?\n",
        "url_for('home')  # Generates URL for the 'home' view function\n",
        "\n",
        "6. How do you handle forms in Flask?\n",
        "Use request.form or request.json:\n",
        "\n",
        "7. How can you validate form data in Flask?\n",
        "You can manually check or use Flask-WTF for advanced validation.\n",
        "Example:\n",
        "\n",
        "if not request.form['name']:\n",
        "    return \"Name is required\", 400\n",
        "\n",
        "8. How do you manage sessions in Flask?\n",
        "Use session from Flask:\n",
        "from flask import session\n",
        "app.secret_key = 'secret_key'  # Required for sessions\n",
        "\n",
        "@app.route('/login')\n",
        "def login():\n",
        "    session['user'] = 'admin'\n",
        "    return 'Logged in'\n",
        "9. How do you redirect to a different route in Flask?\n",
        "Use redirect() and url_for():\n",
        "\n",
        "from flask import redirect, url_for\n",
        "return redirect(url_for('home'))\n",
        "\n",
        "10. How do you handle errors in Flask (e.g., 404)?\n",
        "\n",
        "@app.errorhandler(404)\n",
        "def page_not_found(e):\n",
        "    return \"Page not found\", 404\n",
        "\n",
        "11. How do you structure a Flask app using Blueprints?\n",
        "Create a blueprint in a separate file:\n",
        "\n",
        "# user.py\n",
        "from flask import Blueprint\n",
        "user_bp = Blueprint('user', __name__)\n",
        "\n",
        "@user_bp.route('/profile')\n",
        "def profile():\n",
        "    return 'User Profile'\n",
        "Register it in your main app:\n",
        "\n",
        "\n",
        "12. How do you define a custom Jinja filter in Flask?\n",
        "\n",
        "@app.template_filter('capitalize')\n",
        "def capitalize_filter(s):\n",
        "    return s.capitalize()\n",
        "Use in template: {{ \"hello\" | capitalize }}\n",
        "\n",
        "13. How can you redirect with query parameters in Flask?\n",
        "\n",
        "return redirect(url_for('home', msg='success'))\n",
        "\n",
        "14. How do you return JSON responses in Flask?\n",
        "Use jsonify():\n",
        "from flask import jsonify\n",
        "return jsonify({'message': 'Success'})\n",
        "\n",
        "15. How do you capture URL parameters in Flask?\n",
        "@app.route('/user/<username>')\n",
        "def show_user(username):\n",
        "    return f\"User: {username}\"\n"
      ],
      "metadata": {
        "id": "pWiE2dCQEXFy"
      },
      "execution_count": null,
      "outputs": []
    }
  ]
}